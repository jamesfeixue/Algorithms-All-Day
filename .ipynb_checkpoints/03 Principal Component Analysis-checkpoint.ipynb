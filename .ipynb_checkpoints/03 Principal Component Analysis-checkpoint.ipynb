{
 "cells": [
  {
   "cell_type": "markdown",
   "metadata": {},
   "source": [
    "According to Wikipedia: \n",
    "\n",
    "**Principal component analysis** (PCA) is a statistical procedure that uses an **orthogonal transformation** to convert a set of observations of possibly correlated variables (entities each of which takes on various numerical values) into a set of values of **linearly uncorrelated variables** called principal components.\n",
    "\n",
    "PCA can be thought of as fitting a p-dimensional ellipsoid to the data, where each axis of the ellipsoid represents a principal component. If some axis of the ellipsoid is small, then the variance along that axis is also small, and by omitting that axis and its corresponding principal component from our representation of the dataset, we lose only a commensurately small amount of information.\n",
    "\n",
    "Steps: \n",
    "\n",
    "1. Subtract the mean of each variable from the dataset to center the data around the origin\n",
    "2. Compute the covariance matrix of the data\n",
    "3. Calculate the eigenvalues and eigenvectors of the covariance matrix\n",
    "4. Normalize each orthogonal eigenvectors to become unit vectors\n",
    "5. Sort eigenvectrs by decreasing eigenvalues\n",
    "      - The proportion of the variance each eigenvector represents can be calculated by dividing the eigenvalue corresponding to the eigenvector by the sum of all eigenvalues\n",
    "      - Choose the top k eigenvalues\n",
    "6. Transform the samples onto the new subspace. \n",
    "\n",
    "### This Procedue is sensitive to the scaling of the data. "
   ]
  },
  {
   "cell_type": "code",
   "execution_count": 15,
   "metadata": {},
   "outputs": [
    {
     "data": {
      "text/plain": [
       "array([0.44284456, 0.48855492, 0.60971564])"
      ]
     },
     "execution_count": 15,
     "metadata": {},
     "output_type": "execute_result"
    }
   ],
   "source": [
    "import numpy as np \n",
    "\n",
    "def mean_vector(data): \n",
    "    \"\"\"\n",
    "    Input: an nxd matrix where: \n",
    "        n represents the number of data points\n",
    "        d represents the dimension of each data point\n",
    "    \n",
    "    Output: a d-dimensional vector representing the mean of each dimension. \n",
    "    \"\"\"\n",
    "    n = len(data)\n",
    "    return np.sum(data, axis=0)/n \n",
    "    \n",
    "test_data = np.random.random((10, 3)) \n",
    "mean_vector(test_data)"
   ]
  },
  {
   "cell_type": "code",
   "execution_count": 22,
   "metadata": {},
   "outputs": [
    {
     "data": {
      "text/plain": [
       "array([-7.77156117e-17,  3.33066907e-17, -1.66533454e-17])"
      ]
     },
     "execution_count": 22,
     "metadata": {},
     "output_type": "execute_result"
    }
   ],
   "source": [
    "def mean_removal(data): \n",
    "    \"\"\"\n",
    "    Input: an nxd matrix where: \n",
    "        n represents the number of data points\n",
    "        d represents the dimension of each data point\n",
    "    \n",
    "    Output: an nxd matrix with mean removed\n",
    "    \"\"\"\n",
    "    mean = mean_vector(data)\n",
    "    return np.subtract(data, mean) \n",
    "\n",
    "test_data = np.random.random((10, 3)) \n",
    "mean_vector(mean_removal(test_data))"
   ]
  },
  {
   "cell_type": "code",
   "execution_count": 66,
   "metadata": {},
   "outputs": [
    {
     "data": {
      "text/plain": [
       "(array([[0.03731032, 0.02177103, 0.01001886],\n",
       "        [0.02177103, 0.06601152, 0.03094279],\n",
       "        [0.01001886, 0.03094279, 0.08201398]]),\n",
       " array([[0.03731032, 0.02177103, 0.01001886],\n",
       "        [0.02177103, 0.06601152, 0.03094279],\n",
       "        [0.01001886, 0.03094279, 0.08201398]]),\n",
       " array([[ 0.00000000e+00,  6.93889390e-18, -1.73472348e-18],\n",
       "        [ 6.93889390e-18,  0.00000000e+00,  3.46944695e-18],\n",
       "        [-1.73472348e-18,  3.46944695e-18,  0.00000000e+00]]))"
      ]
     },
     "execution_count": 66,
     "metadata": {},
     "output_type": "execute_result"
    }
   ],
   "source": [
    "def covariance_matrix(mean_removed_data): \n",
    "    \"\"\"\n",
    "    Input: an nxd mean removed matrix where: \n",
    "        n represents the number of data points \n",
    "        d represents the dimension of each data point\n",
    "    \n",
    "    Output: dxd covariance matrix\n",
    "    \"\"\"\n",
    "    n = len(mean_removed_data)\n",
    "    transposed_data = np.transpose(mean_removed_data)\n",
    "    d = len(transposed_data)\n",
    "    matrix = np.empty((d, d))\n",
    "    \n",
    "    \"\"\"\n",
    "    Since the mean is removed: \n",
    "    instead of sum[(X_i - x_mean)(Y_i - y_mean)]/(n-1), \n",
    "    we can just do the dot product and normalize by n-1\n",
    "    \"\"\"\n",
    "    for i in range(d): \n",
    "        for j in range(d): \n",
    "            matrix[i][j] = np.dot(transposed_data[i], transposed_data[j])/(n-1)\n",
    "    return matrix \n",
    "\n",
    "test_data = np.random.random((10, 3))\n",
    "mean_removed = mean_removal(test_data)\n",
    "covariance_matrix(mean_removed), np.cov(np.transpose(mean_removed)), covariance_matrix(mean_removed)-np.cov(np.transpose(mean_removed))"
   ]
  },
  {
   "cell_type": "markdown",
   "metadata": {},
   "source": [
    "### Short Note: \n",
    "\n",
    "Everything has been easy up to this point. The next step is to find the eigenvalues and eigenvectors of the covariance matrix. \n",
    "\n",
    "- LU decomposition\n",
    "- Finding the determinant\n",
    "- Gaussian Elimination\n",
    "- Diagonalization\n",
    "- SVD\n",
    "\n",
    "Note: For large d, the covariance method here is not used. "
   ]
  },
  {
   "cell_type": "code",
   "execution_count": 88,
   "metadata": {},
   "outputs": [],
   "source": [
    "def PCA(data, dim):    \n",
    "    assert dim <= len(data[0])\n",
    "    \"\"\"\n",
    "    Let's use packages first for ease. \n",
    "    \"\"\"\n",
    "    eigenvalues, eigenvectors = np.linalg.eig(covariance_matrix(mean_removal(data))) \n",
    "    #note, the eigenvectors have been normalized by the package\n",
    "    # each column is the eigenvector\n",
    "\n",
    "    \"\"\"Sort eigenvectors by desceding eigenvalues\"\"\"\n",
    "    # since python automoatically sorts lists of lists by the first element: \n",
    "    # Note: calling sorted(), the python function, on numpy arrays may not work\n",
    "    # Note: np.sort() sorts on the last axis. \n",
    "    # [::-1] operates on each individual item, thus we need to transpose, apply it to reverse order, and then transpose back\n",
    "    temp = np.concatenate(([eigenvalues], eigenvectors))\n",
    "    temp = np.transpose(np.transpose(np.sort(temp))[::-1]) \n",
    "    eigenvalues_new, eigenvectors_new = temp[0], temp[1:]\n",
    "    eigenvalues_new, eigenvectors_new, eigenvectors\n",
    "\n",
    "    \"\"\"Transform the samples onto the new subspace.\"\"\"\n",
    "    \"\"\"Arbitrarily choose the first 2 dimensions\"\"\"\n",
    "    reduced_vectors = eigenvectors_new[:,0:dim]\n",
    "    final_data = np.matmul(np.transpose(reduced_vectors), np.transpose(data))\n",
    "    return np.transpose(final_data)"
   ]
  },
  {
   "cell_type": "markdown",
   "metadata": {},
   "source": [
    "# Test\n",
    "\n",
    "We can test this by making each dimension of the data draw from a different gaussian with different variances. "
   ]
  },
  {
   "cell_type": "code",
   "execution_count": 89,
   "metadata": {},
   "outputs": [],
   "source": [
    "feature1 = np.random.normal(scale=0.5, size=100)\n",
    "feature2 = np.random.normal(scale=1.5, size=100)\n",
    "feature3 = np.random.normal(scale=2.5, size=100)\n",
    "feature4 = np.random.normal(scale=3.5, size=100)\n",
    "feature5 = np.random.normal(scale=4.5, size=100)\n",
    "\n",
    "data = np.transpose([feature1, feature2, feature3, feature4, feature5])\n",
    "transformed_data = PCA(data, 2)"
   ]
  },
  {
   "cell_type": "code",
   "execution_count": 95,
   "metadata": {},
   "outputs": [
    {
     "data": {
      "image/png": "[encoded data removed]",
      "text/plain": [
       "<matplotlib.figure.Figure at 0x111f18390>"
      ]
     },
     "metadata": {},
     "output_type": "display_data"
    }
   ],
   "source": [
    "import matplotlib.pyplot as plt\n",
    "\n",
    "plt.scatter(transformed_data[:,0], transformed_data[:,1])\n",
    "plt.show()"
   ]
  },
  {
   "cell_type": "code",
   "execution_count": null,
   "metadata": {
    "collapsed": true
   },
   "outputs": [],
   "source": []
  }
 ],
 "metadata": {
  "kernelspec": {
   "display_name": "Python 3",
   "language": "python",
   "name": "python3"
  },
  "language_info": {
   "codemirror_mode": {
    "name": "ipython",
    "version": 3
   },
   "file_extension": ".py",
   "mimetype": "text/x-python",
   "name": "python",
   "nbconvert_exporter": "python",
   "pygments_lexer": "ipython3",
   "version": "3.6.8"
  }
 },
 "nbformat": 4,
 "nbformat_minor": 2
}
