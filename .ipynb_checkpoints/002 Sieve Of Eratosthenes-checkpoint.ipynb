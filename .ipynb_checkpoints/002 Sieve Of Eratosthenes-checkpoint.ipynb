{
 "cells": [
  {
   "cell_type": "code",
   "execution_count": 31,
   "metadata": {},
   "outputs": [],
   "source": [
    "import numpy as np\n",
    "def sieve(n): \n",
    "    \"\"\"Return a list of all primes. \"\"\"\n",
    "    i = 0 \n",
    "    numbers = list(range(2, n+1))\n",
    "    \n",
    "    while i < len(numbers): #len(numbers) is recomputed each time\n",
    "        current_prime = numbers[i]\n",
    "        numbers_new = [j for j in numbers[i+1:] if (j%current_prime)>0] #list comprehension is awesome\n",
    "        numbers = numbers[:i+1]+numbers_new\n",
    "        i+=1 \n",
    "    \n",
    "    return numbers"
   ]
  },
  {
   "cell_type": "code",
   "execution_count": 34,
   "metadata": {},
   "outputs": [
    {
     "data": {
      "text/plain": [
       "[2, 3, 5, 7]"
      ]
     },
     "execution_count": 34,
     "metadata": {},
     "output_type": "execute_result"
    }
   ],
   "source": [
    "sieve(10)"
   ]
  }
 ],
 "metadata": {
  "kernelspec": {
   "display_name": "Python 3",
   "language": "python",
   "name": "python3"
  },
  "language_info": {
   "codemirror_mode": {
    "name": "ipython",
    "version": 3
   },
   "file_extension": ".py",
   "mimetype": "text/x-python",
   "name": "python",
   "nbconvert_exporter": "python",
   "pygments_lexer": "ipython3",
   "version": "3.6.8"
  }
 },
 "nbformat": 4,
 "nbformat_minor": 2
}
