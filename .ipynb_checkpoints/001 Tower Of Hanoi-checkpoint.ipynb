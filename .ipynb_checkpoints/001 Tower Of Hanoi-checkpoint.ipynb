{
 "cells": [
  {
   "cell_type": "markdown",
   "metadata": {},
   "source": [
    "# The Tower of Hanoi\n",
    "\n",
    "According to Wikipedia: \n",
    "\n",
    "> The Tower of Hanoi (also called the Tower of Brahma or Lucas' Tower[1] and sometimes pluralized) is a mathematical game or puzzle. It consists of three rods and a number of disks of different sizes, which can slide onto any rod. The puzzle starts with the disks in a neat stack in ascending order of size on one rod, the smallest at the top, thus making a conical shape.\n",
    ">\n",
    "> The objective of the puzzle is to move the entire stack to another rod, obeying the following simple rules:\n",
    "> \n",
    "> 1. Only one disk can be moved at a time.\n",
    "> 2. Each move consists of taking the upper disk from one of the stacks and placing it on top of another stack or on an  empty rod.\n",
    "> 3. No larger disk may be placed on top of a smaller disk."
   ]
  },
  {
   "cell_type": "code",
   "execution_count": 7,
   "metadata": {},
   "outputs": [],
   "source": [
    "def hanoi_setup(n): \n",
    "    left = range(1, n+1)\n",
    "    return list(left), [], []"
   ]
  },
  {
   "cell_type": "markdown",
   "metadata": {},
   "source": [
    "## Iterative Solution\n",
    "\n",
    "According to Wikipedia: \n",
    "\n",
    "> For an even number of disks:\n",
    "> \n",
    "> - make the legal move between pegs A and B (in either direction),\n",
    "> - make the legal move between pegs A and C (in either direction),\n",
    "> - make the legal move between pegs B and C (in either direction),\n",
    "> - repeat until complete.\n",
    ">\n",
    "> For an odd number of disks:\n",
    "> \n",
    "> - make the legal move between pegs A and C (in either direction),\n",
    "> - make the legal move between pegs A and B (in either direction),\n",
    "> - make the legal move between pegs B and C (in either direction),\n",
    "> - repeat until complete."
   ]
  },
  {
   "cell_type": "code",
   "execution_count": 58,
   "metadata": {
    "collapsed": true
   },
   "outputs": [],
   "source": [
    "import copy\n",
    "\n",
    "\"\"\"\n",
    "This is a rather literal interpretation of Wikipedia's description. \n",
    "\"\"\"\n",
    "\n",
    "def hanoi_solve_iterative(A, B, C): \n",
    "    prototype = copy.copy(A) \n",
    "    if len(A)%2 == 0: \n",
    "        while not (B == prototype or C == prototype): \n",
    "            A, B = legal_move(A, B) \n",
    "            print(A, B, C)\n",
    "            if not (B == prototype or C == prototype):\n",
    "                A, C = legal_move(A, C)\n",
    "                print(A, B, C)\n",
    "            if not (B == prototype or C == prototype):\n",
    "                B, C = legal_move(B, C)\n",
    "                print(A, B, C)\n",
    "        \n",
    "    if len(A)%2 == 1: \n",
    "        while not (B == prototype or C == prototype): \n",
    "            A, C = legal_move(A, C)\n",
    "            print(A, B, C)\n",
    "            if not (B == prototype or C == prototype):\n",
    "                A, B = legal_move(A, B)\n",
    "                print(A, B, C)\n",
    "            if not (B == prototype or C == prototype):\n",
    "                B, C = legal_move(B, C)\n",
    "                print(A, B, C)\n",
    "            \n",
    "    return A, B, C\n",
    "            \n",
    "            \n",
    "def legal_move(first, second): \n",
    "    # one of them can be empty\n",
    "    if len(first)== 0 or len(second)==0: \n",
    "        if len(first) == 0: \n",
    "            first = second[0:1]\n",
    "            second = second[1:]\n",
    "        else: \n",
    "            second = first[0:1]\n",
    "            first = first[1:]\n",
    "    # both of them can be nonempty\n",
    "    elif len(first)>0 and len(second)>0: \n",
    "        if first[0] > second[0]: #move smaller second to larger first\n",
    "            first = second[0:1] + first\n",
    "            second = second[1:]\n",
    "        else: \n",
    "            second = first[0:1] + second\n",
    "            first = first[1:]\n",
    "            \n",
    "    return first, second"
   ]
  },
  {
   "cell_type": "code",
   "execution_count": 46,
   "metadata": {},
   "outputs": [
    {
     "name": "stdout",
     "output_type": "stream",
     "text": [
      "[2, 3, 4] [1] []\n",
      "[3, 4] [1] [2]\n",
      "[3, 4] [] [1, 2]\n",
      "[4] [3] [1, 2]\n",
      "[1, 4] [3] [2]\n",
      "[1, 4] [2, 3] []\n",
      "[4] [1, 2, 3] []\n",
      "[] [1, 2, 3] [4]\n",
      "[] [2, 3] [1, 4]\n",
      "[2] [3] [1, 4]\n",
      "[1, 2] [3] [4]\n",
      "[1, 2] [] [3, 4]\n",
      "[2] [1] [3, 4]\n",
      "[] [1] [2, 3, 4]\n",
      "[] [] [1, 2, 3, 4]\n"
     ]
    },
    {
     "data": {
      "text/plain": [
       "([], [], [1, 2, 3, 4])"
      ]
     },
     "execution_count": 46,
     "metadata": {},
     "output_type": "execute_result"
    }
   ],
   "source": [
    "A, B, C = hanoi_setup(4)\n",
    "hanoi_solve_iterative(A, B, C)"
   ]
  },
  {
   "cell_type": "code",
   "execution_count": 47,
   "metadata": {
    "collapsed": true
   },
   "outputs": [],
   "source": [
    "\"\"\"\n",
    "Refinement: \n",
    "There is nothing special about B and C. \n",
    "So could we refine the algorithm and disregard the two cases of n being odd or even? \n",
    "\"\"\"\n",
    "def hanoi_solve_iterative2(A, B, C): \n",
    "    prototype = copy.copy(A) \n",
    "\n",
    "    while not (B == prototype or C == prototype): \n",
    "        A, B = legal_move(A, B) \n",
    "        print(A, B, C)\n",
    "        if not (B == prototype or C == prototype):\n",
    "            A, C = legal_move(A, C)\n",
    "            print(A, B, C)\n",
    "        if not (B == prototype or C == prototype):\n",
    "            B, C = legal_move(B, C)\n",
    "            print(A, B, C)\n",
    "\n",
    "    return A, B, C"
   ]
  },
  {
   "cell_type": "code",
   "execution_count": 48,
   "metadata": {},
   "outputs": [
    {
     "name": "stdout",
     "output_type": "stream",
     "text": [
      "[2, 3, 4] [1] []\n",
      "[3, 4] [1] [2]\n",
      "[3, 4] [] [1, 2]\n",
      "[4] [3] [1, 2]\n",
      "[1, 4] [3] [2]\n",
      "[1, 4] [2, 3] []\n",
      "[4] [1, 2, 3] []\n",
      "[] [1, 2, 3] [4]\n",
      "[] [2, 3] [1, 4]\n",
      "[2] [3] [1, 4]\n",
      "[1, 2] [3] [4]\n",
      "[1, 2] [] [3, 4]\n",
      "[2] [1] [3, 4]\n",
      "[] [1] [2, 3, 4]\n",
      "[] [] [1, 2, 3, 4]\n"
     ]
    },
    {
     "data": {
      "text/plain": [
       "([], [], [1, 2, 3, 4])"
      ]
     },
     "execution_count": 48,
     "metadata": {},
     "output_type": "execute_result"
    }
   ],
   "source": [
    "D, E, F = hanoi_setup(4)\n",
    "hanoi_solve_iterative2(D, E, F)"
   ]
  },
  {
   "cell_type": "markdown",
   "metadata": {},
   "source": [
    "## Recursive Solution\n",
    "\n",
    "According to Wikipedia: \n",
    "\n",
    "Assuming all n disks are distributed in valid arrangements among the pegs; assuming there are m top disks on a source peg, and all the rest of the disks are larger than m, so they can be safely ignored; to move m disks from a source peg to a target peg using a spare peg, without violating the rules:\n",
    "\n",
    "1. Move m − 1 disks from the source to the spare peg, by the same general solving procedure. Rules are not violated, by assumption. This leaves the disk m as a top disk on the source peg.\n",
    "2. Move the disk m from the source to the target peg, which is guaranteed to be a valid move, by the assumptions — a simple step.\n",
    "3. Move the m − 1 disks that we have just placed on the spare, from the spare to the target peg by the same general solving procedure, so they are placed on top of the disk m without violating the rules.\n",
    "4. The base case being to move 0 disks (in steps 1 and 3), that is, do nothing – which obviously doesn't violate the rules.\n"
   ]
  },
  {
   "cell_type": "code",
   "execution_count": 124,
   "metadata": {
    "collapsed": true
   },
   "outputs": [],
   "source": [
    "def hanoi_solve_recursive(height, source, target, spare): \n",
    "    \"\"\"\n",
    "    Output is hard to read since \"source\", \"target\", and \"spare\" is relative to the height. \n",
    "    \"\"\"\n",
    "    # base case\n",
    "    if height == 0: \n",
    "        return source, target, spare\n",
    "     \n",
    "    #save the last disk\n",
    "    last_disk = source[height-1]\n",
    "    \n",
    "    #move all except the last disk to spare\n",
    "    source, spare, target = hanoi_solve_recursive(height-1, source, spare, target)\n",
    "    \n",
    "    #put the last disk on the target\n",
    "    temp = source.pop(0)\n",
    "    target.insert(0, temp)\n",
    "    \n",
    "    #move all spare to target\n",
    "    spare, target, source = hanoi_solve_recursive(height-1, spare, target, source)\n",
    "    \n",
    "    print(height, source, target, spare)\n",
    "    return source, target, spare"
   ]
  },
  {
   "cell_type": "code",
   "execution_count": 127,
   "metadata": {},
   "outputs": [
    {
     "name": "stdout",
     "output_type": "stream",
     "text": [
      "1 [2, 3] [1] []\n",
      "1 [] [1, 2] [3]\n",
      "2 [3] [1, 2] []\n",
      "1 [2] [1] [3]\n",
      "1 [] [1, 2, 3] []\n",
      "2 [] [1, 2, 3] []\n",
      "3 [] [1, 2, 3] []\n"
     ]
    },
    {
     "data": {
      "text/plain": [
       "([], [1, 2, 3], [])"
      ]
     },
     "execution_count": 127,
     "metadata": {},
     "output_type": "execute_result"
    }
   ],
   "source": [
    "height = 3\n",
    "D, E, F = hanoi_setup(height)\n",
    "hanoi_solve_recursive(height, D, E, F)"
   ]
  },
  {
   "cell_type": "code",
   "execution_count": null,
   "metadata": {
    "collapsed": true
   },
   "outputs": [],
   "source": []
  },
  {
   "cell_type": "code",
   "execution_count": null,
   "metadata": {
    "collapsed": true
   },
   "outputs": [],
   "source": []
  }
 ],
 "metadata": {
  "kernelspec": {
   "display_name": "Python 3",
   "language": "python",
   "name": "python3"
  },
  "language_info": {
   "codemirror_mode": {
    "name": "ipython",
    "version": 3
   },
   "file_extension": ".py",
   "mimetype": "text/x-python",
   "name": "python",
   "nbconvert_exporter": "python",
   "pygments_lexer": "ipython3",
   "version": "3.6.8"
  }
 },
 "nbformat": 4,
 "nbformat_minor": 2
}
